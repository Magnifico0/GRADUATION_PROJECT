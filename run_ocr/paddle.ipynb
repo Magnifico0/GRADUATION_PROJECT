{
 "cells": [
  {
   "cell_type": "code",
   "execution_count": null,
   "id": "5e6d9f10",
   "metadata": {
    "vscode": {
     "languageId": "plaintext"
    }
   },
   "outputs": [],
   "source": [
    "# GPU supported version \n",
    "!pip install paddlepaddle-gpu==2.6.2 -f https://www.paddlepaddle.org.cn/whl/windows/mkl/avx/stable.html\n",
    "!pip install paddleocr==2.9.1"
   ]
  },
  {
   "cell_type": "code",
   "execution_count": null,
   "id": "51628610",
   "metadata": {
    "vscode": {
     "languageId": "plaintext"
    }
   },
   "outputs": [],
   "source": [
    "!pip uninstall -y numpy\n",
    "!pip install numpy==1.26.4\n",
    "#after run of this cell restart runtime"
   ]
  },
  {
   "cell_type": "code",
   "execution_count": null,
   "id": "37789326",
   "metadata": {
    "vscode": {
     "languageId": "plaintext"
    }
   },
   "outputs": [],
   "source": [
    "import paddle\n",
    "paddle.device.is_compiled_with_cuda()"
   ]
  },
  {
   "cell_type": "code",
   "execution_count": null,
   "id": "da1795d7",
   "metadata": {
    "vscode": {
     "languageId": "plaintext"
    }
   },
   "outputs": [],
   "source": [
    "import os\n",
    "import json\n",
    "import time\n",
    "from paddleocr import PaddleOCR\n",
    "from google.colab import drive\n",
    "from tqdm import tqdm\n",
    "import paddle\n",
    "\n",
    "# Google Drive connection\n",
    "drive.mount('/content/drive')\n",
    "\n",
    "def is_image_file(filename):\n",
    "    return filename.lower().endswith(('.png', '.jpg', '.jpeg'))\n",
    "\n",
    "def run_paddleocr_on_existing_json(image_root, input_json_path, model_name='paddleocr'):\n",
    "    \"\"\"Adds PaddleOCR result into current JSON file \"\"\"\n",
    "\n",
    "    # OCR settings\n",
    "    use_gpu = False\n",
    "    try:\n",
    "        if paddle.device.is_compiled_with_cuda():\n",
    "            use_gpu = True\n",
    "            paddle.device.set_device('gpu')\n",
    "            print(\"GPU will use\")\n",
    "        else:\n",
    "            print(\"cannot find GPU, CPU will be using\")\n",
    "    except Exception as e:\n",
    "        print(f\"CUDA control errror: {e}. CPU will use.\")\n",
    "\n",
    "    ocr = PaddleOCR(use_angle_cls=True, lang='en', use_gpu=use_gpu)\n",
    "\n",
    "    # upload current JSON file\n",
    "    with open(input_json_path, 'r', encoding='utf-8') as f:\n",
    "        data = json.load(f)\n",
    "\n",
    "    start_time = time.time()\n",
    "\n",
    "    # And change the loop to:\n",
    "    for filename in tqdm([k for k in data if not k.startswith(\"_\")], desc=\"OCR process\"):\n",
    "        \n",
    "        for root, _, files in os.walk(image_root):\n",
    "            if 'text_category' in root:\n",
    "                continue\n",
    "            if filename in files:\n",
    "                img_path = os.path.join(root, filename)\n",
    "                try:\n",
    "                    result = ocr.ocr(img_path, cls=True)\n",
    "\n",
    "                    extracted_text = []\n",
    "                    if result and result[0]:\n",
    "                        for line in result[0]:\n",
    "                            extracted_text.append(line[1][0])\n",
    "\n",
    "                    # write OCR result\n",
    "                    data[filename][\"models\"][model_name] = {\n",
    "                        \"prediction\": '\\n'.join(extracted_text) if extracted_text else \"\",\n",
    "                        \"cer\": None,\n",
    "                        \"wer\": None\n",
    "                    }\n",
    "                except Exception as e:\n",
    "                    print(f\"{filename} error: {str(e)}\")\n",
    "                break  # if find file finish process\n",
    "\n",
    "    elapsed = round(time.time() - start_time,2)\n",
    "    print(f\"\\n OCR completed: {elapsed:.2f} second\")\n",
    "\n",
    "    meta = data.get(\"_meta\", {})\n",
    "    processing_times = meta.get(\"processing_times\", {})\n",
    "    processing_times[model_name] = elapsed\n",
    "    meta[\"processing_times\"] = processing_times\n",
    "    data[\"_meta\"] = meta\n",
    "\n",
    "\n",
    "\n",
    "    \n",
    "    with open(input_json_path, 'w', encoding='utf-8') as f:\n",
    "        json.dump(data, f, ensure_ascii=False, indent=2)\n",
    "\n",
    "    print(f\" Saved updated JSON:  {input_json_path}\")\n",
    "    return data\n",
    "\n",
    "\n",
    "\n",
    "\n",
    "input_json_path = '/content/drive/MyDrive/nutuk/benchmark/converted_data.json'\n",
    "image_root = '/content/drive/MyDrive/nutuk/benchmark/'\n",
    "\n",
    "#start ocr process\n",
    "updated = run_paddleocr_on_existing_json(image_root, input_json_path)\n",
    "\n",
    "\n",
    "\n"
   ]
  }
 ],
 "metadata": {
  "language_info": {
   "name": "python"
  }
 },
 "nbformat": 4,
 "nbformat_minor": 5
}
